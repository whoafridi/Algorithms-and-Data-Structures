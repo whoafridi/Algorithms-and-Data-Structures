{
  "nbformat": 4,
  "nbformat_minor": 0,
  "metadata": {
    "colab": {
      "name": "weed_detection.ipynb",
      "provenance": [],
      "private_outputs": true,
      "mount_file_id": "1QmdebdthGxmrcMaibEKVCa_z8nDbfU-u",
      "authorship_tag": "ABX9TyOPT9ZxxmdYfp29QcH3Sce1",
      "include_colab_link": true
    },
    "kernelspec": {
      "name": "python3",
      "display_name": "Python 3"
    },
    "accelerator": "GPU"
  },
  "cells": [
    {
      "cell_type": "markdown",
      "metadata": {
        "id": "view-in-github",
        "colab_type": "text"
      },
      "source": [
        "<a href=\"https://colab.research.google.com/github/whoafridi/Algorithms-and-Data-Structures/blob/master/weed_detection.ipynb\" target=\"_parent\"><img src=\"https://colab.research.google.com/assets/colab-badge.svg\" alt=\"Open In Colab\"/></a>"
      ]
    },
    {
      "cell_type": "code",
      "metadata": {
        "id": "14c94QS_jhi2",
        "colab_type": "code",
        "colab": {}
      },
      "source": [
        "!cp /content/drive/My\\ Drive/yolov3/yolov3_custom.cfg /content/\n",
        "!cp /content/drive/My\\ Drive/yolov3/yolov3_custom_last.weights /content/\n",
        "!cp /content/drive/My\\ Drive/yolov3/obj.names /content/"
      ],
      "execution_count": null,
      "outputs": []
    },
    {
      "cell_type": "code",
      "metadata": {
        "id": "o-mXLVgIkEzF",
        "colab_type": "code",
        "colab": {}
      },
      "source": [
        "!cp /content/drive/My\\ Drive/yolov3/weed.jpeg /content/\n",
        "!cp /content/drive/My\\ Drive/yolov3/weed2.jpeg /content/\n",
        "!cp /content/drive/My\\ Drive/yolov3/weed.jpeg /content"
      ],
      "execution_count": null,
      "outputs": []
    },
    {
      "cell_type": "code",
      "metadata": {
        "id": "sZYXy-KHk28w",
        "colab_type": "code",
        "colab": {}
      },
      "source": [
        "!cp /content/drive/My\\ Drive/yolov3/crop.jpeg /content/\n",
        "!cp /content/drive/My\\ Drive/yolov3/crop1.jpeg /content/"
      ],
      "execution_count": null,
      "outputs": []
    },
    {
      "cell_type": "code",
      "metadata": {
        "id": "vkLZ8S_9kPDf",
        "colab_type": "code",
        "colab": {}
      },
      "source": [
        "import cv2\n",
        "import numpy as np\n",
        "\n",
        "def objectDetector(img):\n",
        "    yolo = cv2.dnn.readNet(\"/content/yolov3_custom_last.weights\", \"/content/yolov3_custom.cfg\")\n",
        "    classes = []\n",
        "\n",
        "    with open(\"/content/obj.names\", \"r\") as file:\n",
        "        classes = [line.strip() for line in file.readlines()]\n",
        "    layer_names = yolo.getLayerNames()\n",
        "    output_layers = [layer_names[i[0] - 1] for i in yolo.getUnconnectedOutLayers()]\n",
        "\n",
        "    colorRed = (0,0,255)\n",
        "    colorGreen = (0,255,0)\n",
        "    colorWhite = (255,255,255)\n",
        "\n",
        "    height, width, channels = img.shape\n",
        "\n",
        "    # # Detecting objects\n",
        "    blob = cv2.dnn.blobFromImage(img, 0.00392, (416, 416), (0, 0, 0), True, crop=False)\n",
        "\n",
        "    yolo.setInput(blob)\n",
        "    outputs = yolo.forward(output_layers)\n",
        "\n",
        "    class_ids = []\n",
        "    confidences = []\n",
        "    boxes = []\n",
        "    for output in outputs:\n",
        "        for detection in output:\n",
        "            scores = detection[5:]\n",
        "            class_id = np.argmax(scores)\n",
        "            confidence = scores[class_id]\n",
        "            if confidence > 0.5:\n",
        "                center_x = int(detection[0] * width)\n",
        "                center_y = int(detection[1] * height)\n",
        "                w = int(detection[2] * width)\n",
        "                h = int(detection[3] * height)\n",
        "\n",
        "                x = int(center_x - w / 2)\n",
        "                y = int(center_y - h / 2)\n",
        "\n",
        "                boxes.append([x, y, w, h])\n",
        "                confidences.append(float(confidence))\n",
        "                class_ids.append(class_id)\n",
        "\n",
        "    indexes = cv2.dnn.NMSBoxes(boxes, confidences, 0.5, 0.4)\n",
        "    for i in range(len(boxes)):\n",
        "        if i in indexes:\n",
        "            x, y, w, h = boxes[i]\n",
        "            label = str(classes[class_ids[i]])\n",
        "            cv2.rectangle(img, (x, y), (x + w, y + h), colorGreen, 3)\n",
        "            cv2.putText(img, label, (x, y - 30), cv2.FONT_HERSHEY_PLAIN, 3, colorWhite, 2)\n",
        "    return img"
      ],
      "execution_count": null,
      "outputs": []
    },
    {
      "cell_type": "code",
      "metadata": {
        "id": "kSJYJ3Yikgg_",
        "colab_type": "code",
        "colab": {}
      },
      "source": [
        "import cv2\n",
        "import matplotlib.pyplot as plt\n",
        "%matplotlib inline\n",
        "\n",
        "input_image = cv2.imread(\"/content/weed2.jpeg\")\n",
        "image = objectDetector(input_image)\n",
        "height, width = image.shape[:2]\n",
        "resized_image = cv2.resize(image,(3*width, 3*height), interpolation = cv2.INTER_CUBIC)\n",
        "\n",
        "fig = plt.gcf()\n",
        "fig.set_size_inches(18, 10)\n",
        "plt.axis(\"off\")\n",
        "plt.imshow(cv2.cvtColor(resized_image, cv2.COLOR_BGR2RGB))\n",
        "plt.show()"
      ],
      "execution_count": null,
      "outputs": []
    },
    {
      "cell_type": "code",
      "metadata": {
        "id": "xVQEz__YkvKn",
        "colab_type": "code",
        "colab": {}
      },
      "source": [
        "import cv2\n",
        "import matplotlib.pyplot as plt\n",
        "%matplotlib inline\n",
        "\n",
        "input_image = cv2.imread(\"/content/weed.jpeg\")\n",
        "image = objectDetector(input_image)\n",
        "height, width = image.shape[:2]\n",
        "resized_image = cv2.resize(image,(3*width, 3*height), interpolation = cv2.INTER_CUBIC)\n",
        "\n",
        "fig = plt.gcf()\n",
        "fig.set_size_inches(18, 10)\n",
        "plt.axis(\"off\")\n",
        "plt.imshow(cv2.cvtColor(resized_image, cv2.COLOR_BGR2RGB))\n",
        "plt.show()"
      ],
      "execution_count": null,
      "outputs": []
    },
    {
      "cell_type": "code",
      "metadata": {
        "id": "O-aImN49lHJx",
        "colab_type": "code",
        "colab": {}
      },
      "source": [
        "import cv2\n",
        "import matplotlib.pyplot as plt\n",
        "%matplotlib inline\n",
        "\n",
        "input_image = cv2.imread(\"/content/crop1.jpeg\")\n",
        "image = objectDetector(input_image)\n",
        "height, width = image.shape[:2]\n",
        "resized_image = cv2.resize(image,(3*width, 3*height), interpolation = cv2.INTER_CUBIC)\n",
        "\n",
        "fig = plt.gcf()\n",
        "fig.set_size_inches(18, 10)\n",
        "plt.axis(\"off\")\n",
        "plt.imshow(cv2.cvtColor(resized_image, cv2.COLOR_BGR2RGB))\n",
        "plt.show()"
      ],
      "execution_count": null,
      "outputs": []
    },
    {
      "cell_type": "code",
      "metadata": {
        "id": "bMRrdNUImA0U",
        "colab_type": "code",
        "colab": {}
      },
      "source": [
        "import cv2\n",
        "import matplotlib.pyplot as plt\n",
        "%matplotlib inline\n",
        "\n",
        "input_image = cv2.imread(\"/content/crop_3.jpeg\")\n",
        "image = objectDetector(input_image)\n",
        "height, width = image.shape[:2]\n",
        "resized_image = cv2.resize(image,(3*width, 3*height), interpolation = cv2.INTER_CUBIC)\n",
        "\n",
        "fig = plt.gcf()\n",
        "fig.set_size_inches(18, 10)\n",
        "plt.axis(\"off\")\n",
        "plt.imshow(cv2.cvtColor(resized_image, cv2.COLOR_BGR2RGB))\n",
        "plt.show()"
      ],
      "execution_count": null,
      "outputs": []
    },
    {
      "cell_type": "code",
      "metadata": {
        "id": "qgvnuhBmmfVL",
        "colab_type": "code",
        "colab": {}
      },
      "source": [
        "import cv2\n",
        "import matplotlib.pyplot as plt\n",
        "%matplotlib inline\n",
        "\n",
        "input_image = cv2.imread(\"/content/crop_4.jpeg\")\n",
        "image = objectDetector(input_image)\n",
        "height, width = image.shape[:2]\n",
        "resized_image = cv2.resize(image,(3*width, 3*height), interpolation = cv2.INTER_CUBIC)\n",
        "\n",
        "fig = plt.gcf()\n",
        "fig.set_size_inches(18, 10)\n",
        "plt.axis(\"off\")\n",
        "plt.imshow(cv2.cvtColor(resized_image, cv2.COLOR_BGR2RGB))\n",
        "plt.show()"
      ],
      "execution_count": null,
      "outputs": []
    },
    {
      "cell_type": "code",
      "metadata": {
        "id": "WpXY2jLX8or_",
        "colab_type": "code",
        "colab": {}
      },
      "source": [
        ""
      ],
      "execution_count": null,
      "outputs": []
    },
    {
      "cell_type": "code",
      "metadata": {
        "id": "V2N8N9PB1N65",
        "colab_type": "code",
        "colab": {}
      },
      "source": [
        "!cp /content/drive/My\\ Drive/yolov3/mask/yolov3_custom.cfg /content/\n",
        "!cp /content/drive/My\\ Drive/yolov3/mask/yolov3_custom_last.weights /content/\n",
        "!cp /content/drive/My\\ Drive/yolov3/mask/obj.names /content/\n",
        "!cp /content/drive/My\\ Drive/yolov3/mask/N.jpg /content/\n",
        "!cp /content/drive/My\\ Drive/yolov3/mask/33.png /content/\n",
        "!cp /content/drive/My\\ Drive/yolov3/mask/no.jpg /content/\n",
        "!cp /content/drive/My\\ Drive/yolov3/mask/n.jpg /content/\n",
        "!cp /content/drive/My\\ Drive/yolov3/mask/mask.jpg /content/"
      ],
      "execution_count": null,
      "outputs": []
    },
    {
      "cell_type": "code",
      "metadata": {
        "colab_type": "code",
        "id": "Wpn8NBVb8ruu",
        "colab": {}
      },
      "source": [
        "import cv2\n",
        "import numpy as np\n",
        "\n",
        "def objectDetector(img):\n",
        "    yolo = cv2.dnn.readNet(\"/content/yolov3_custom_last.weights\", \"/content/yolov3_custom.cfg\")\n",
        "    classes = []\n",
        "\n",
        "    with open(\"/content/obj.names\", \"r\") as file:\n",
        "        classes = [line.strip() for line in file.readlines()]\n",
        "    layer_names = yolo.getLayerNames()\n",
        "    output_layers = [layer_names[i[0] - 1] for i in yolo.getUnconnectedOutLayers()]\n",
        "\n",
        "    colorRed = (0,0,255)\n",
        "    colorGreen = (0,255,0)\n",
        "    colorWhite = (255,255,255)\n",
        "\n",
        "    height, width, channels = img.shape\n",
        "\n",
        "    # # Detecting objects\n",
        "    blob = cv2.dnn.blobFromImage(img, 0.00392, (416, 416), (0, 0, 0), True, crop=False)\n",
        "\n",
        "    yolo.setInput(blob)\n",
        "    outputs = yolo.forward(output_layers)\n",
        "\n",
        "    class_ids = []\n",
        "    confidences = []\n",
        "    boxes = []\n",
        "    for output in outputs:\n",
        "        for detection in output:\n",
        "            scores = detection[5:]\n",
        "            class_id = np.argmax(scores)\n",
        "            confidence = scores[class_id]\n",
        "            if confidence > 0.5:\n",
        "                center_x = int(detection[0] * width)\n",
        "                center_y = int(detection[1] * height)\n",
        "                w = int(detection[2] * width)\n",
        "                h = int(detection[3] * height)\n",
        "\n",
        "                x = int(center_x - w / 2)\n",
        "                y = int(center_y - h / 2)\n",
        "\n",
        "                boxes.append([x, y, w, h])\n",
        "                confidences.append(float(confidence))\n",
        "                class_ids.append(class_id)\n",
        "\n",
        "    indexes = cv2.dnn.NMSBoxes(boxes, confidences, 0.5, 0.4)\n",
        "    for i in range(len(boxes)):\n",
        "        if i in indexes:\n",
        "            x, y, w, h = boxes[i]\n",
        "            label = str(classes[class_ids[i]])\n",
        "            cv2.rectangle(img, (x, y), (x + w, y + h), colorGreen, 3)\n",
        "            cv2.putText(img, label, (x, y - 30), cv2.FONT_HERSHEY_PLAIN, 8, colorWhite, 2)\n",
        "    return img"
      ],
      "execution_count": null,
      "outputs": []
    },
    {
      "cell_type": "code",
      "metadata": {
        "id": "Wkbv8YGd8wG9",
        "colab_type": "code",
        "colab": {}
      },
      "source": [
        "import cv2\n",
        "import matplotlib.pyplot as plt\n",
        "%matplotlib inline\n",
        "\n",
        "input_image = cv2.imread(\"N.jpg\")\n",
        "image = objectDetector(input_image)\n",
        "height, width = image.shape[:2]\n",
        "resized_image = cv2.resize(image,(3*width, 3*height), interpolation = cv2.INTER_CUBIC)\n",
        "\n",
        "fig = plt.gcf()\n",
        "fig.set_size_inches(18, 10)\n",
        "plt.axis(\"off\")\n",
        "plt.imshow(cv2.cvtColor(resized_image, cv2.COLOR_BGR2RGB))\n",
        "plt.show()"
      ],
      "execution_count": null,
      "outputs": []
    },
    {
      "cell_type": "code",
      "metadata": {
        "id": "WtEvEZ5-8725",
        "colab_type": "code",
        "colab": {}
      },
      "source": [
        ""
      ],
      "execution_count": null,
      "outputs": []
    }
  ]
}